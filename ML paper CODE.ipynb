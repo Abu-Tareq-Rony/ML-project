{
 "cells": [
  {
   "cell_type": "code",
   "execution_count": 44,
   "metadata": {},
   "outputs": [],
   "source": [
    "#import numpy as np\n",
    "#import matplotlib.pyplot as plt\n",
    "import pandas as pd\n",
    "from sklearn.tree import DecisionTreeClassifier\n",
    "from sklearn.neighbors import KNeighborsClassifier\n",
    "from sklearn.naive_bayes import GaussianNB\n",
    "from sklearn import svm\n",
    "from sklearn.svm import SVC\n",
    "from sklearn.linear_model import LogisticRegression\n",
    "from sklearn.neural_network import MLPClassifier\n",
    "from sklearn.ensemble import RandomForestClassifier\n",
    "from xgboost import XGBClassifier\n",
    "from sklearn.model_selection import cross_val_predict\n",
    "from sklearn.metrics import accuracy_score\n",
    "from sklearn.metrics import roc_auc_score\n",
    "from sklearn.metrics import f1_score\n",
    "from imblearn.metrics import geometric_mean_score\n",
    "from imblearn.metrics import sensitivity_score\n",
    "from imblearn.metrics import specificity_score"
   ]
  },
  {
   "cell_type": "code",
   "execution_count": 45,
   "metadata": {},
   "outputs": [],
   "source": [
    "dataset = pd.read_csv('diabetes_data_upload.csv')#Sylhet diabetes Hospital Dataset\n",
    "#df = pd.read_csv('diabetes.csv')#PIMA Indian Diabetes Dataset\n",
    "#df\n",
    "dataset"
   ]
  },
  {
   "cell_type": "code",
   "execution_count": 31,
   "metadata": {},
   "outputs": [],
   "source": [
    "#add label\n",
    "dataset['Gender'] = dataset['Gender'].map({'Male':1,'Female':0})\n",
    "dataset['class'] = dataset['class'].map({'Positive':1,'Negative':0})\n",
    "dataset['Polyuria'] = dataset['Polyuria'].map({'Yes':1,'No':0})\n",
    "dataset['Polydipsia'] = dataset['Polydipsia'].map({'Yes':1,'No':0})\n",
    "dataset['sudden weight loss'] = dataset['sudden weight loss'].map({'Yes':1,'No':0})\n",
    "dataset['weakness'] = dataset['weakness'].map({'Yes':1,'No':0})\n",
    "dataset['Polyphagia'] = dataset['Polyphagia'].map({'Yes':1,'No':0})\n",
    "dataset['Genital thrush'] = dataset['Genital thrush'].map({'Yes':1,'No':0})\n",
    "dataset['visual blurring'] = dataset['visual blurring'].map({'Yes':1,'No':0})\n",
    "dataset['Itching'] = dataset['Itching'].map({'Yes':1,'No':0})\n",
    "dataset['Irritability'] = dataset['Irritability'].map({'Yes':1,'No':0})\n",
    "dataset['delayed healing'] = dataset['delayed healing'].map({'Yes':1,'No':0})\n",
    "dataset['partial paresis'] = dataset['partial paresis'].map({'Yes':1,'No':0})\n",
    "dataset['muscle stiffness'] = dataset['muscle stiffness'].map({'Yes':1,'No':0})\n",
    "dataset['Alopecia'] = dataset['Alopecia'].map({'Yes':1,'No':0})\n",
    "dataset['Obesity'] = dataset['Obesity'].map({'Yes':1,'No':0})"
   ]
  },
  {
   "cell_type": "code",
   "execution_count": 32,
   "metadata": {},
   "outputs": [
    {
     "data": {
      "text/plain": [
       "False"
      ]
     },
     "execution_count": 32,
     "metadata": {},
     "output_type": "execute_result"
    }
   ],
   "source": [
    "dataset.isnull().values.any()"
   ]
  },
  {
   "cell_type": "code",
   "execution_count": 33,
   "metadata": {},
   "outputs": [],
   "source": [
    "#x = df.iloc[:, 0:8].values #PIMA dataset\n",
    "#y = df.iloc[:, 8] #PIMA dataset\n",
    "x = dataset.iloc[:, 0:16].values\n",
    "y = dataset.iloc[:, 16]"
   ]
  },
  {
   "cell_type": "code",
   "execution_count": 36,
   "metadata": {},
   "outputs": [
    {
     "name": "stdout",
     "output_type": "stream",
     "text": [
      "Accuracy :        0.9134615384615384\n",
      "ROC :             0.908125\n",
      "F-Measure :       0.9134205969742549\n",
      "Geometric Mean :  0.9081093199512097\n",
      "Sensitivity :     0.9134615384615384\n",
      "Specificity :     0.9027884615384615\n",
      "False Positive Rate (Fall Out): 0.09721153846153852\n",
      "False Negative Rate (Miss Rate): 0.08653846153846156\n"
     ]
    }
   ],
   "source": [
    "dt = DecisionTreeClassifier(min_impurity_decrease=0.01)\n",
    "y_pred = cross_val_predict(estimator = dt, X = x, y = y, cv = 10)\n",
    "\n",
    "print('Accuracy :       ', accuracy_score(y, y_pred))\n",
    "print('ROC :            ', roc_auc_score(y, y_pred, average = 'weighted'))\n",
    "print('F-Measure :      ', f1_score(y, y_pred, average = 'weighted'))\n",
    "print('Geometric Mean : ', geometric_mean_score(y, y_pred, average = 'weighted'))\n",
    "print('Sensitivity :    ', sensitivity_score(y, y_pred, average = 'weighted'))\n",
    "print('Specificity :    ', specificity_score(y, y_pred, average = 'weighted'))\n",
    "print('False Positive Rate (Fall Out):', (1-specificity_score(y, y_pred, average = 'weighted')))\n",
    "print('False Negative Rate (Miss Rate):',(1-sensitivity_score(y, y_pred, average = 'weighted')))"
   ]
  },
  {
   "cell_type": "code",
   "execution_count": 37,
   "metadata": {},
   "outputs": [
    {
     "name": "stdout",
     "output_type": "stream",
     "text": [
      "Accuracy :        0.8711538461538462\n",
      "ROC :             0.883125\n",
      "F-Measure :       0.8881469115191986\n",
      "Geometric Mean :  0.8830438591036075\n",
      "Sensitivity :     0.8711538461538462\n",
      "Specificity :     0.8950961538461539\n",
      "False Positive Rate (Fall Out): 0.10490384615384607\n",
      "False Negative Rate (Miss Rate): 0.12884615384615383\n"
     ]
    }
   ],
   "source": [
    "knn = KNeighborsClassifier()\n",
    "y_pred = cross_val_predict(estimator = knn, X = x, y = y, cv = 10)\n",
    "\n",
    "print('Accuracy :       ', accuracy_score(y, y_pred))\n",
    "print('ROC :            ', roc_auc_score(y, y_pred))\n",
    "print('F-Measure :      ', f1_score(y, y_pred))\n",
    "print('Geometric Mean : ', geometric_mean_score(y, y_pred, average = 'weighted'))\n",
    "print('Sensitivity :    ', sensitivity_score(y, y_pred, average = 'weighted'))\n",
    "print('Specificity :    ', specificity_score(y, y_pred, average = 'weighted'))\n",
    "print('False Positive Rate (Fall Out):', (1-specificity_score(y, y_pred, average = 'weighted')))\n",
    "print('False Negative Rate (Miss Rate):',(1-sensitivity_score(y, y_pred, average = 'weighted')))"
   ]
  },
  {
   "cell_type": "code",
   "execution_count": 38,
   "metadata": {},
   "outputs": [
    {
     "name": "stdout",
     "output_type": "stream",
     "text": [
      "Accuracy :        0.8807692307692307\n",
      "ROC :             0.8740625\n",
      "F-Measure :       0.903125\n",
      "Geometric Mean :  0.8740367690598829\n",
      "Sensitivity :     0.8807692307692307\n",
      "Specificity :     0.8673557692307692\n",
      "False Positive Rate (Fall Out): 0.13264423076923082\n",
      "False Negative Rate (Miss Rate): 0.11923076923076925\n"
     ]
    }
   ],
   "source": [
    "nb = GaussianNB()\n",
    "y_pred = cross_val_predict(estimator = nb, X = x, y = y, cv = 10)\n",
    "\n",
    "print('Accuracy :       ', accuracy_score(y, y_pred))\n",
    "print('ROC :            ', roc_auc_score(y, y_pred))\n",
    "print('F-Measure :      ', f1_score(y, y_pred))\n",
    "print('Geometric Mean : ', geometric_mean_score(y, y_pred, average = 'weighted'))\n",
    "print('Sensitivity :    ', sensitivity_score(y, y_pred, average = 'weighted'))\n",
    "print('Specificity :    ', specificity_score(y, y_pred, average = 'weighted'))\n",
    "print('False Positive Rate (Fall Out):', (1-specificity_score(y, y_pred, average = 'weighted')))\n",
    "print('False Negative Rate (Miss Rate):',(1-sensitivity_score(y, y_pred, average = 'weighted')))"
   ]
  },
  {
   "cell_type": "code",
   "execution_count": 39,
   "metadata": {},
   "outputs": [
    {
     "name": "stdout",
     "output_type": "stream",
     "text": [
      "Accuracy :        0.9365384615384615\n",
      "ROC :             0.9371874999999998\n",
      "F-Measure :       0.94770206022187\n",
      "Geometric Mean :  0.9371872752578992\n",
      "Sensitivity :     0.9365384615384615\n",
      "Specificity :     0.9378365384615384\n",
      "False Positive Rate (Fall Out): 0.06216346153846164\n",
      "False Negative Rate (Miss Rate): 0.06346153846153846\n"
     ]
    }
   ],
   "source": [
    "svm = svm.SVC(gamma='auto')\n",
    "y_pred = cross_val_predict(estimator = svm, X = x, y = y, cv = 10)\n",
    "\n",
    "print('Accuracy :       ', accuracy_score(y, y_pred))\n",
    "print('ROC :            ', roc_auc_score(y, y_pred))\n",
    "print('F-Measure :      ', f1_score(y, y_pred))\n",
    "print('Geometric Mean : ', geometric_mean_score(y, y_pred, average = 'weighted'))\n",
    "print('Sensitivity :    ', sensitivity_score(y, y_pred, average = 'weighted'))\n",
    "print('Specificity :    ', specificity_score(y, y_pred, average = 'weighted'))\n",
    "print('False Positive Rate (Fall Out):', (1-specificity_score(y, y_pred, average = 'weighted')))\n",
    "print('False Negative Rate (Miss Rate):',(1-sensitivity_score(y, y_pred, average = 'weighted')))"
   ]
  },
  {
   "cell_type": "code",
   "execution_count": 40,
   "metadata": {},
   "outputs": [
    {
     "name": "stdout",
     "output_type": "stream",
     "text": [
      "Accuracy :        0.9307692307692308\n",
      "ROC :             0.9296875\n",
      "F-Measure :       0.943217665615142\n",
      "Geometric Mean :  0.9296868706800118\n",
      "Sensitivity :     0.9307692307692308\n",
      "Specificity :     0.9286057692307692\n",
      "False Positive Rate (Fall Out): 0.0713942307692308\n",
      "False Negative Rate (Miss Rate): 0.0692307692307692\n"
     ]
    }
   ],
   "source": [
    "\n",
    "logreg = LogisticRegression(solver='lbfgs',max_iter=1000)\n",
    "y_pred = cross_val_predict(estimator = logreg, X = x, y = y, cv = 10)\n",
    "\n",
    "print('Accuracy :       ', accuracy_score(y, y_pred))\n",
    "print('ROC :            ', roc_auc_score(y, y_pred))\n",
    "print('F-Measure :      ', f1_score(y, y_pred))\n",
    "print('Geometric Mean : ', geometric_mean_score(y, y_pred, average = 'weighted'))\n",
    "print('Sensitivity :    ', sensitivity_score(y, y_pred, average = 'weighted'))\n",
    "print('Specificity :    ', specificity_score(y, y_pred, average = 'weighted'))\n",
    "print('False Positive Rate (Fall Out):', (1-specificity_score(y, y_pred, average = 'weighted')))\n",
    "print('False Negative Rate (Miss Rate):',(1-sensitivity_score(y, y_pred, average = 'weighted')))"
   ]
  },
  {
   "cell_type": "code",
   "execution_count": 41,
   "metadata": {},
   "outputs": [
    {
     "name": "stdout",
     "output_type": "stream",
     "text": [
      "Accuracy :        0.6153846153846154\n",
      "ROC :             0.5\n",
      "F-Measure :       0.761904761904762\n",
      "Geometric Mean :  0.4865042554105199\n",
      "Sensitivity :     0.6153846153846154\n",
      "Specificity :     0.38461538461538464\n",
      "False Positive Rate (Fall Out): 0.6153846153846154\n",
      "False Negative Rate (Miss Rate): 0.3846153846153846\n"
     ]
    }
   ],
   "source": [
    "mlp = MLPClassifier(solver='lbfgs', alpha=1e-5, hidden_layer_sizes=(5, 2), random_state=1)\n",
    "y_pred = cross_val_predict(estimator = mlp, X = x, y = y, cv = 10)\n",
    "\n",
    "print('Accuracy :       ', accuracy_score(y, y_pred))\n",
    "print('ROC :            ', roc_auc_score(y, y_pred))\n",
    "print('F-Measure :      ', f1_score(y, y_pred))\n",
    "print('Geometric Mean : ', geometric_mean_score(y, y_pred, average = 'weighted'))\n",
    "print('Sensitivity :    ', sensitivity_score(y, y_pred, average = 'weighted'))\n",
    "print('Specificity :    ', specificity_score(y, y_pred, average = 'weighted'))\n",
    "print('False Positive Rate (Fall Out):', (1-specificity_score(y, y_pred, average = 'weighted')))\n",
    "print('False Negative Rate (Miss Rate):',(1-sensitivity_score(y, y_pred, average = 'weighted')))"
   ]
  },
  {
   "cell_type": "code",
   "execution_count": 42,
   "metadata": {},
   "outputs": [
    {
     "name": "stdout",
     "output_type": "stream",
     "text": [
      "Accuracy :        0.9673076923076923\n",
      "ROC :             0.9668749999999999\n",
      "F-Measure :       0.9733124018838304\n",
      "Geometric Mean :  0.9668749031815682\n",
      "Sensitivity :     0.9673076923076923\n",
      "Specificity :     0.9664423076923078\n",
      "False Positive Rate (Fall Out): 0.03355769230769223\n",
      "False Negative Rate (Miss Rate): 0.03269230769230769\n"
     ]
    }
   ],
   "source": [
    "xgb = XGBClassifier()\n",
    "y_pred = cross_val_predict(estimator = xgb, X = x, y = y, cv = 10) \n",
    "\n",
    "print('Accuracy :       ', accuracy_score(y, y_pred))\n",
    "print('ROC :            ', roc_auc_score(y, y_pred))\n",
    "print('F-Measure :      ', f1_score(y, y_pred))\n",
    "print('Geometric Mean : ', geometric_mean_score(y, y_pred, average = 'weighted'))\n",
    "print('Sensitivity :    ', sensitivity_score(y, y_pred, average = 'weighted'))\n",
    "print('Specificity :    ', specificity_score(y, y_pred, average = 'weighted'))\n",
    "print('False Positive Rate (Fall Out):', (1-specificity_score(y, y_pred, average = 'weighted')))\n",
    "print('False Negative Rate (Miss Rate):',(1-sensitivity_score(y, y_pred, average = 'weighted')))"
   ]
  },
  {
   "cell_type": "code",
   "execution_count": 43,
   "metadata": {},
   "outputs": [
    {
     "name": "stdout",
     "output_type": "stream",
     "text": [
      "Accuracy :        0.9807692307692307\n",
      "ROC :             0.9796875\n",
      "F-Measure :       0.984375\n",
      "Geometric Mean :  0.9796869027984364\n",
      "Sensitivity :     0.9807692307692307\n",
      "Specificity :     0.9786057692307693\n",
      "False Positive Rate (Fall Out): 0.02139423076923075\n",
      "False Negative Rate (Miss Rate): 0.019230769230769273\n"
     ]
    }
   ],
   "source": [
    "Rclf=RandomForestClassifier()\n",
    "y_pred = cross_val_predict(estimator = Rclf, X = x, y = y, cv = 10) \n",
    "\n",
    "print('Accuracy :       ', accuracy_score(y, y_pred))\n",
    "print('ROC :            ', roc_auc_score(y, y_pred))\n",
    "print('F-Measure :      ', f1_score(y, y_pred))\n",
    "print('Geometric Mean : ', geometric_mean_score(y, y_pred, average = 'weighted'))\n",
    "print('Sensitivity :    ', sensitivity_score(y, y_pred, average = 'weighted'))\n",
    "print('Specificity :    ', specificity_score(y, y_pred, average = 'weighted'))\n",
    "print('False Positive Rate (Fall Out):', (1-specificity_score(y, y_pred, average = 'weighted')))\n",
    "print('False Negative Rate (Miss Rate):',(1-sensitivity_score(y, y_pred, average = 'weighted')))"
   ]
  }
 ],
 "metadata": {
  "kernelspec": {
   "display_name": "Python 3",
   "language": "python",
   "name": "python3"
  },
  "language_info": {
   "codemirror_mode": {
    "name": "ipython",
    "version": 3
   },
   "file_extension": ".py",
   "mimetype": "text/x-python",
   "name": "python",
   "nbconvert_exporter": "python",
   "pygments_lexer": "ipython3",
   "version": "3.8.3"
  }
 },
 "nbformat": 4,
 "nbformat_minor": 4
}
